{
 "cells": [
  {
   "cell_type": "code",
   "execution_count": 1,
   "metadata": {},
   "outputs": [],
   "source": [
    "import itertools\n",
    "\n",
    "import numpy as np\n",
    "import pandas as pd\n",
    "\n",
    "from PIL import Image"
   ]
  },
  {
   "cell_type": "code",
   "execution_count": 2,
   "metadata": {
    "collapsed": true
   },
   "outputs": [],
   "source": [
    "# Transforms an RGB matrix of pixels to a Grayscale matrix of pixels\n",
    "#[CITE] https://stackoverflow.com/q/12201577\n",
    "def rgb2gray(rgb):\n",
    "    r, g, b = rgb[:,:,0], rgb[:,:,1], rgb[:,:,2]\n",
    "    gray = 0.2989 * r + 0.5870 * g + 0.1140 * b\n",
    "    return gray\n",
    "\n",
    "# Convert a array of lists to a singular list\n",
    "#[CITE] https://stackoverflow.com/a/716482\n",
    "def listsToList(listOfLists):\n",
    "    return list(itertools.chain.from_iterable(listOfLists))\n",
    "\n",
    "# Converts a image to a grayscale singular array of pixels\n",
    "def imageToArray(imgPath):\n",
    "    return listsToList(rgb2gray(np.asarray(Image.open(imgPath))))\n"
   ]
  },
  {
   "cell_type": "code",
   "execution_count": 3,
   "metadata": {},
   "outputs": [],
   "source": [
    "# TODO: Greatly imporve how the images are retrieved\n",
    "cats = []\n",
    "dogs = []\n",
    "\n",
    "for i in range(0,1250):\n",
    "    cats.append(imageToArray(f'./train/cat.{i}.jpg'))\n",
    "    dogs.append(imageToArray(f'./train/dog.{i}.jpg'))\n",
    "    \n",
    "animalClass = np.zeros(len(cats)+len(dogs))\n",
    "animalClass[1250:] = 1\n",
    "    \n",
    "animals = {'ImageData': cats+dogs, 'ImageClass':animalClass}\n",
    "# Get some memory back\n",
    "cats =[]\n",
    "dogs =[]\n",
    "\n",
    "ds = pd.DataFrame(data=animals)\n",
    "# Get some memory back\n",
    "animals = []"
   ]
  },
  {
   "cell_type": "code",
   "execution_count": 5,
   "metadata": {},
   "outputs": [
    {
     "name": "stdout",
     "output_type": "stream",
     "text": [
      "<class 'pandas.core.frame.DataFrame'>\n",
      "RangeIndex: 2500 entries, 0 to 2499\n",
      "Data columns (total 2 columns):\n",
      "ImageClass    2500 non-null float64\n",
      "ImageData     2500 non-null object\n",
      "dtypes: float64(1), object(1)\n",
      "memory usage: 39.1+ KB\n"
     ]
    }
   ],
   "source": [
    "ds.info()"
   ]
  },
  {
   "cell_type": "code",
   "execution_count": null,
   "metadata": {
    "collapsed": true
   },
   "outputs": [],
   "source": []
  }
 ],
 "metadata": {
  "kernelspec": {
   "display_name": "Python 3",
   "language": "python",
   "name": "python3"
  },
  "language_info": {
   "codemirror_mode": {
    "name": "ipython",
    "version": 3
   },
   "file_extension": ".py",
   "mimetype": "text/x-python",
   "name": "python",
   "nbconvert_exporter": "python",
   "pygments_lexer": "ipython3",
   "version": "3.6.1"
  }
 },
 "nbformat": 4,
 "nbformat_minor": 2
}
